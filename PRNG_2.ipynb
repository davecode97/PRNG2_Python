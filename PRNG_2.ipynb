{
  "nbformat": 4,
  "nbformat_minor": 0,
  "metadata": {
    "colab": {
      "name": "PRNG 2.ipynb",
      "provenance": [],
      "collapsed_sections": [],
      "authorship_tag": "ABX9TyMDmQcVCZ41xXkCPlQXias9",
      "include_colab_link": true
    },
    "kernelspec": {
      "display_name": "Python 3",
      "name": "python3"
    },
    "language_info": {
      "name": "python"
    }
  },
  "cells": [
    {
      "cell_type": "markdown",
      "metadata": {
        "id": "view-in-github",
        "colab_type": "text"
      },
      "source": [
        "<a href=\"https://colab.research.google.com/github/llanesdavid97/PRNG2_Python/blob/main/PRNG_2.ipynb\" target=\"_parent\"><img src=\"https://colab.research.google.com/assets/colab-badge.svg\" alt=\"Open In Colab\"/></a>"
      ]
    },
    {
      "cell_type": "markdown",
      "metadata": {
        "id": "0QmMexX_ruiJ"
      },
      "source": [
        "TecMM Campus Zapopan - PRNG 2 Simulacion\n",
        "\n",
        "---\n",
        "**Problem description**\n",
        "\n",
        "The student should implement the test listed above.\n",
        "In order to know whether the pseudo-random number generator is good or not,\n",
        "the student should use the following random generators with the corresponding \n",
        "test:\n",
        "\n",
        "2. $X_{i+1} ≡ 16807X{i} \\:\\:\\:mod\\:\\:\\: 2147483647 \\:\\:\\:with\\:\\:\\: X_{0} = 1$\n",
        "\n",
        "\n",
        "  (a) Test of means\n",
        "\n",
        "  (b) Test of variance\n",
        "\n",
        "  (c) Chi-Squere Test\n",
        "  \n",
        "  (D) Runs above and below Test\n",
        "\n",
        "For testsing PRNG 2 the student should get the first **100** pseudo-random numbers.\n",
        "\n",
        "**If the generator passes all the test then is a good generator**.\n"
      ]
    },
    {
      "cell_type": "markdown",
      "metadata": {
        "id": "5bIPwrv1vcjF"
      },
      "source": [
        "**Random generators**"
      ]
    },
    {
      "cell_type": "code",
      "metadata": {
        "id": "vazurNr6-4oQ"
      },
      "source": [
        "import math\n",
        "import numpy as np\n",
        "import matplotlib.pyplot as plt\n",
        "import scipy.special as sc\n",
        "from scipy.stats import chi2\n",
        "\n",
        "from scipy.stats import norm\n",
        "import matplotlib.pyplot as plt\n",
        "\n",
        "\n",
        "def lc(a, c, m, seed):\n",
        "    return ((a * seed) + c) % m\n",
        "\n",
        "\n",
        "def generator(a, c, m, seed, n):\n",
        "    r = []\n",
        "    xi = [0, seed]\n",
        "    for i in range(1, n + 1):\n",
        "        xi.append(lc(a, c, m, xi[i]))\n",
        "        r.append(xi[i] / (m - 1));\n",
        "    #print(xi)\n",
        "    return r\n",
        "\n",
        "\n",
        "aux = generator(16807, 0, 2147483647, 1, 1000)\n",
        "#for i in aux:\n",
        " # print(aux)\n",
        "\n",
        "def imprimir(aux):\n",
        "  fin=[]\n",
        "  for i in range(1000):\n",
        "    fin.append(aux)\n",
        "  return (fin)\n",
        "\n",
        "imprimir(aux)\n",
        "#r = aux\n",
        "#print(len(r))\n",
        "#print(r)\n",
        "\n",
        "cl = 0.95"
      ],
      "execution_count": null,
      "outputs": []
    },
    {
      "cell_type": "markdown",
      "metadata": {
        "id": "2HOzYaNLspXr"
      },
      "source": [
        "**Test of means**\n",
        "\n",
        "This test determine whether the mean of a set of numbers is equal to $\\frac{1}{2}$\n",
        "\n",
        "----\n",
        "\n",
        "**Algorithm 1** *Test of means*\n",
        "\n",
        "--- \n",
        "**Require:** A set of random numbers *r* and a confidence level *cl*\n",
        "\n",
        "1: **function:** $MeansTest(r,cl)$\n",
        "\n",
        "2: $α ← 1 − cl$\n",
        "\n",
        "3: $n ← size(r)$\n",
        "\n",
        "4: $\\bar{r}\\leftarrow \\frac{1}{n}\\sum _{n}^{i=1}r_{i}$\n",
        "\n",
        "5: $LL_{\\bar{r}}\\leftarrow \\frac{1}{2}-z_{_{\\frac{\\alpha }{2}}}(\\frac{1}{\\sqrt{12n}})$\n",
        "\n",
        "6: $UL_{\\bar{r}}\\leftarrow \\frac{1}{2}-z_{_{\\frac{\\alpha }{2}}}  (\\frac{1}{\\sqrt{12n}})$\n",
        "\n",
        "7: **return** $LL_\\bar{r}\\leq \\bar{r}\\leq UL_{\\bar{r}}$\n",
        "\n",
        "---"
      ]
    },
    {
      "cell_type": "code",
      "metadata": {
        "colab": {
          "base_uri": "https://localhost:8080/"
        },
        "id": "IajBgAjwsov2",
        "outputId": "1db8c94e-c8ca-40f8-be38-969880d0d7b7"
      },
      "source": [
        "#Z = alfa/2-> 1-0.0025 = 0.975 \n",
        "#In the table distribution find Z_alfa -> 0.975 -> 1.90+0.06 -> 1.96\n",
        "\n",
        "#1.\n",
        "def MeanTest(r, cl):\n",
        "  #2.\n",
        "  alfa = 1- cl\n",
        "  #3.\n",
        "  n = len(r)\n",
        "  #4\n",
        "  sigma = sum(r)\n",
        "  rBarra = ((1/n)*(sigma))\n",
        "\n",
        "  #5 y 6\n",
        "  Alfa = 1-((alfa)/2)\n",
        "  RbarraLimiteInferior = ((1/2) - (norm.ppf(Alfa))*(1/(math.sqrt(12*n))))\n",
        "  RbarraLimiteSuperior = ((1/2) + (norm.ppf(Alfa))*(1/(math.sqrt(12*n))))\n",
        "\n",
        "  #7\n",
        "  if RbarraLimiteInferior <= rBarra and RbarraLimiteSuperior >= rBarra:\n",
        "    print(True, \":The test failed to reject\")\n",
        "  else:\n",
        "    print(False, \":The test failed\")\n",
        "\n",
        "  print(\"\\n\")\n",
        "  print(\"alfa: \", alfa)\n",
        "  print(\"Confidence level: \", cl)\n",
        "  print(\"n: \", n)\n",
        "  print(\"rBarra: \", rBarra)\n",
        "  print(\"Rbarra Limite Inferior: \", RbarraLimiteInferior)\n",
        "  print(\"Rbarra Limite Superior: \", RbarraLimiteSuperior)\n",
        "MeanTest(r,cl)"
      ],
      "execution_count": null,
      "outputs": [
        {
          "output_type": "stream",
          "text": [
            "True :The test failed to reject\n",
            "\n",
            "\n",
            "alfa:  0.050000000000000044\n",
            "Confidence level:  0.95\n",
            "n:  100\n",
            "rBarra:  0.476180285602976\n",
            "Rbarra Limite Inferior:  0.4434207132961914\n",
            "Rbarra Limite Superior:  0.5565792867038086\n"
          ],
          "name": "stdout"
        }
      ]
    },
    {
      "cell_type": "markdown",
      "metadata": {
        "id": "97KFu9mzv1iL"
      },
      "source": [
        "b) **Test of variance**\n",
        "\n",
        "This test determine whether the mean of a set of numbers is equal to $\\frac{1}{2}$\n",
        "\n",
        "----\n",
        "\n",
        "**Algorithm 2** *Test of variance*\n",
        "\n",
        "--- \n",
        "**Require:** A set of random numbers *r* and a confidence level *cl*\n",
        "\n",
        "1: **function:** $VarianceTest(r,cl)$\n",
        "\n",
        "2: $α ← 1 − cl$\n",
        "\n",
        "3: $n ← size(r)$\n",
        "\n",
        "4: $V(r)\\leftarrow \\frac{\\sum _{n-1}^{i=1}(r_{i}-\\bar{r})^2}{n}$\n",
        "\n",
        "5: $LL_{V(r)}\\leftarrow\\frac{\\chi_{\\alpha/2, n-1}^{2}}{12(n-1)}$\n",
        "\n",
        "6: $UL_{V(r)}\\leftarrow\\frac{\\chi_{(1-\\alpha)/2, n-1}^{2}}{12(n-1)}$\n",
        "\n",
        "7: **return** $LL_{V(r)} \\leq V(r) \\leq UL_{V(r)}$\n",
        "\n",
        "---"
      ]
    },
    {
      "cell_type": "code",
      "metadata": {
        "colab": {
          "base_uri": "https://localhost:8080/"
        },
        "id": "m-IEh0j82Xi_",
        "outputId": "c8ec2012-552e-4d5c-d7cd-3b0cd1dcab88"
      },
      "source": [
        "#1.\n",
        "def VarianceTest(r, cl):\n",
        "  #2.\n",
        "  alfa = 1 - cl\n",
        "  #3.\n",
        "  n = len(r)\n",
        "  \n",
        "  #4.\n",
        "  sigma = sum(r)\n",
        "  rBarra = ((1/n)*(sigma))\n",
        "\n",
        "  #List comprehension\n",
        "  r[:] = [(ri - rBarra)**2 for ri in r]\n",
        "\n",
        "  Vr = sum(r)/(n-1)\n",
        "\n",
        "  chiCuadradaLL = chi2.ppf((alfa/2),(n-1))\n",
        "  chiCuadradaUL = chi2.ppf(1-(alfa/2), (n-1))\n",
        "\n",
        "  #5 y 6\n",
        "  LL = chiCuadradaLL/((12)*(n-1))\n",
        "  UL = chiCuadradaUL/((12) * (n-1))\n",
        "  \n",
        "  #7\n",
        "  if LL <= Vr and  UL >= Vr:\n",
        "    print(True, \":The test failed to reject\")\n",
        "  else:\n",
        "    print(False, \":The test failed\")\n",
        "\n",
        "  print(\"\\n\")\n",
        "  print(\"alfa: \", alfa)\n",
        "  print(\"Confidence level: \", cl)\n",
        "  print(\"n: \", n)\n",
        "  print(\"rBarra: \", rBarra)\n",
        "  print(\"Vr: \", Vr)\n",
        "  print(\"LL(Vr) :\", LL)\n",
        "  print(\"UL(Vr) :\", UL)  \n",
        "\n",
        "VarianceTest(r, cl)"
      ],
      "execution_count": null,
      "outputs": [
        {
          "output_type": "stream",
          "text": [
            "True :The test failed to reject\n",
            "\n",
            "\n",
            "alfa:  0.050000000000000044\n",
            "Confidence level:  0.95\n",
            "n:  100\n",
            "rBarra:  0.476180285602976\n",
            "Vr:  0.09709564032684666\n",
            "LL(Vr) : 0.06175175100276404\n",
            "UL(Vr) : 0.10809931704026962\n"
          ],
          "name": "stdout"
        }
      ]
    },
    {
      "cell_type": "markdown",
      "metadata": {
        "id": "qRxPcSVa2YMt"
      },
      "source": [
        "**Algorithm 3** *Chi-Squere Test*\n",
        "\n",
        "--- \n",
        "**Require:** A set of random numbers *r* and a confidence level *cl*\n",
        "\n",
        "1: **function:** $ChiSquereTest(r,cl)$\n",
        "\n",
        "2: $α ← 1 − cl$\n",
        "\n",
        "3: $ n← size(r)$\n",
        "\n",
        "4: $m \\leftarrow \\sqrt{n}$\n",
        "\n",
        "5: $Create \\:\\:m \\:\\:clases \\:\\:for \\:\\:r$\n",
        "\n",
        "6: $Classify\\:\\: each \\:\\:r_i \\:\\:in \\:\\: each \\:\\:class$\n",
        "\n",
        "7: $Calculate \\: \\:O_i \\:\\:for \\:\\:each \\:\\:class$\n",
        "\n",
        "8: $Calculate \\:\\: E_i = \\frac{n}{m}$\n",
        "\n",
        "9: $\\chi_{0}^{2} \\leftarrow \\sum _{m}^{i=1} \\frac{(E_i - O_i)^2}{E_i}$\n",
        "\n",
        "10: **return** $\\chi_{0}^{2} < \\chi_{\\alpha, m-1}^{2}$\n",
        "\n",
        "---\n"
      ]
    },
    {
      "cell_type": "code",
      "metadata": {
        "colab": {
          "base_uri": "https://localhost:8080/"
        },
        "id": "ARA0BeaE2s4T",
        "outputId": "e1e01c53-00e6-485b-d5b8-4da791ee2ada"
      },
      "source": [
        "#1.\n",
        "def ChisquereTest(r, cl):\n",
        "  #2.\n",
        "  alfa = 1 - cl\n",
        "  #3.\n",
        "  n = len(r)\n",
        "  #4.\n",
        "  m = math.sqrt(n)\n",
        "  \n",
        "  #5\n",
        "  clase1 = [0.00, 0.10, 0.20, 0.30, 0.40, 0.50, 0.60, 0.70, 0.80, 0.90]\n",
        "  clase2 = [0.10, 0.20, 0.30, 0.40, 0.50, 0.60, 0.70, 0.80, 0.90, 0.100]\n",
        "\n",
        "\n",
        "  Oi = []\n",
        "  auxOi =[]\n",
        "  OiLen = 0 \n",
        "  Ei = []\n",
        "  auxResult = []\n",
        "  #6.\n",
        "  for j in range(len(clase1)):\n",
        "    #7. Oi\n",
        "    auxO=0\n",
        "    auxOi=[]\n",
        "    Oi.append(OiLen)\n",
        "    \n",
        "    #8. Ei\n",
        "    auxEi = n/m\n",
        "    Ei.append(auxEi)\n",
        "    \n",
        "    #9. ((Ei-Oi)^2)/Ei\n",
        "    result = (Ei[j] - Oi[j])**2\n",
        "    auxResult.append(result)\n",
        "    \n",
        "    for i in range(len(r)):\n",
        "\n",
        "        OiLen = len(auxOi)\n",
        "\n",
        "        if r[i] >= clase1[j] and r[i] <= clase2[j]:     \n",
        "          auxO +=1\n",
        "          auxOi.append([auxO])\n",
        "  #9. \n",
        "  Chi2 = chi2.ppf(alfa, m-1)\n",
        "  Chi0 = sum(auxResult)\n",
        "\n",
        "  #10.\n",
        "  if Chi0 < Chi2:\n",
        "    print(True, \":The test failed to reject\")\n",
        "  else:\n",
        "    print(False, \":The test failed\")\n",
        "  \n",
        "  print(\"\\n\")\n",
        "  print(\"alfa: \", alfa)\n",
        "  print(\"Confidence level: \", cl)\n",
        "  print(\"n: \", n)\n",
        "  print(\"Oi: \", Oi)\n",
        "  print(\"Ei:\", Ei)\n",
        "  print(\"Chi0\", Chi0)\n",
        "  print(\"Chi2\", Chi2)\n",
        "ChisquereTest(r,cl)\n"
      ],
      "execution_count": null,
      "outputs": [
        {
          "output_type": "stream",
          "text": [
            "False :The test failed\n",
            "\n",
            "\n",
            "alfa:  0.050000000000000044\n",
            "Confidence level:  0.95\n",
            "n:  100\n",
            "Oi:  [0, 55, 27, 17, 0, 0, 0, 0, 0, 0]\n",
            "Ei: [10.0, 10.0, 10.0, 10.0, 10.0, 10.0, 10.0, 10.0, 10.0, 10.0]\n",
            "Chi0 3063.0\n",
            "Chi2 3.3251128430668158\n"
          ],
          "name": "stdout"
        }
      ]
    },
    {
      "cell_type": "markdown",
      "metadata": {
        "id": "hiZ8XO-S4DOm"
      },
      "source": [
        "c) **Runs above and below test**\n",
        "\n",
        "This test determine whether the mean of a set of numbers is equal to $\\frac{1}{2}$\n",
        "\n",
        "----\n",
        "\n",
        "**Algorithm 3** *Runs above and below test*\n",
        "\n",
        "--- \n",
        "**Require:** A set of random numbers *r* and a confidence level *cl*\n",
        "\n",
        "1: **function:** $RunsAboveBelow(r,cl)$\n",
        "\n",
        "2: $α ← 1 − cl$\n",
        "\n",
        "3: $ n← size(r)$\n",
        "\n",
        "4: $Construct \\:\\: S \\:\\: by \\:\\:comparing \\:\\:r_i \\:\\:and\\:\\: r_{i-1}$\n",
        "\n",
        "5: $Calculate \\:\\:the \\:\\:number of \\:\\:runs\\:\\: C_0$\n",
        "\n",
        "6: $$\n",
        "\n",
        "7: $Calculate \\: \\:O_i \\:\\:for \\:\\:each \\:\\:class$\n",
        "\n",
        "8: $Calculate \\:\\: E_i = \\frac{n}{m}$\n",
        "\n",
        "9: $\\chi_{0}^{2} \\leftarrow \\sum _{m}^{i=1} \\frac{(E_i - O_i)^2}{E_i}$\n",
        "\n",
        "10: **return** $\\chi_{0}^{2} < \\chi_{\\alpha, m-1}^{2}$\n",
        "\n",
        "---"
      ]
    }
  ]
}